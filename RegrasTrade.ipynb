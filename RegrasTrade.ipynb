{
 "cells": [
  {
   "cell_type": "markdown",
   "metadata": {},
   "source": [
    "Nessa classe, iremos explorar as regras mínimas do trade"
   ]
  },
  {
   "cell_type": "code",
   "execution_count": 1,
   "metadata": {},
   "outputs": [],
   "source": [
    "import pandas as pd\n",
    "import numpy as np"
   ]
  },
  {
   "cell_type": "code",
   "execution_count": 4,
   "metadata": {},
   "outputs": [
    {
     "name": "stdout",
     "output_type": "stream",
     "text": [
      "Operações de João\n",
      "Compra de ações - 500\n",
      "Venda de ações - 700\n"
     ]
    }
   ],
   "source": [
    "class Operacao:\n",
    "    def __init__(self, descricao, valor):\n",
    "        self.descricao = descricao\n",
    "        self.valor = valor\n",
    "\n",
    "class Trader:\n",
    "    def __init__(self, nome, saldo):\n",
    "        self.nome = nome\n",
    "        self.saldo = saldo\n",
    "        self.operacoes = []  # Lista para armazenar as operações\n",
    "\n",
    "    def adicionar_operacao(self, operacao):\n",
    "        self.operacoes.append(operacao)\n",
    "\n",
    "    def listar_operacoes(self):\n",
    "        return self.operacoes\n",
    "\n",
    "# Exemplo de uso:\n",
    "trader1 = Trader(\"João\", 1000)\n",
    "operacao1 = Operacao(\"Compra de ações\", 500)\n",
    "operacao2 = Operacao(\"Venda de ações\", 700)\n",
    "trader1.adicionar_operacao(operacao1)\n",
    "trader1.adicionar_operacao(operacao2)\n",
    "\n",
    "# Mostrar as operações do trader1\n",
    "print(\"Operações de\", trader1.nome)\n",
    "for operacao in trader1.listar_operacoes():\n",
    "    print(operacao.descricao, \"-\", operacao.valor)\n"
   ]
  },
  {
   "cell_type": "code",
   "execution_count": 34,
   "metadata": {},
   "outputs": [
    {
     "data": {
      "text/plain": [
       "'    def add_open_operations(self):\\n'"
      ]
     },
     "execution_count": 34,
     "metadata": {},
     "output_type": "execute_result"
    }
   ],
   "source": [
    "class Trader:\n",
    "\n",
    "    def __init__(self,balance):\n",
    "        self.balance = balance\n",
    "        self.open_operations = []\n",
    "        self.closed_operations = []\n",
    "\n",
    "    "
   ]
  },
  {
   "cell_type": "code",
   "execution_count": 28,
   "metadata": {},
   "outputs": [],
   "source": [
    "class Operation:\n",
    "\n",
    "    def __init__(self,currency,operation_type,leverage,lot,entry_price):\n",
    "        self.currency = currency\n",
    "        self.operation_type = operation_type\n",
    "        self.leverage = leverage\n",
    "        self.lot = lot\n",
    "        self.entry_price = entry_price\n",
    "        self.stop_loss = self.stop_loss()\n",
    "        self.stop_gain = self.stop_gain()\n",
    "\n",
    "    def operation_balance(self, actual_price):\n",
    "        if self.operation_type == \"buy\":\n",
    "            profit = (actual_price - self.entry_price) * self.lot * self.leverage\n",
    "            return profit\n",
    "        \n",
    "        else:\n",
    "            profit = (self.entry_price - actual_price) * self.lot * self.leverage\n",
    "            return profit\n",
    "\n",
    "    \n",
    "    def stop_loss(self):\n",
    "        if (self.type_of_operation==\"buy\"):\n",
    "            stop_loss = self.entry_price*0.97\n",
    "\n",
    "        else:\n",
    "            stop_loss = self.entry_price*1.03\n",
    "\n",
    "        self.stop_loss = stop_loss\n",
    "        return stop_loss\n",
    "    \n",
    "    def stop_gain(self):\n",
    "        if (self.type_of_operation==\"buy\"):\n",
    "            stop_gain = self.price*1.03\n",
    "\n",
    "        else:\n",
    "            stop_gain = self.price*0.97\n",
    "\n",
    "        self.stop_gain = stop_gain\n",
    "        return stop_gain\n",
    "    "
   ]
  },
  {
   "cell_type": "code",
   "execution_count": 29,
   "metadata": {},
   "outputs": [
    {
     "name": "stdout",
     "output_type": "stream",
     "text": [
      "None\n"
     ]
    }
   ],
   "source": [
    "operacao = Operation(1.22005,'buy',1,100000,50)\n",
    "print(operacao.reached_stops(0))"
   ]
  }
 ],
 "metadata": {
  "kernelspec": {
   "display_name": "Python 3",
   "language": "python",
   "name": "python3"
  },
  "language_info": {
   "codemirror_mode": {
    "name": "ipython",
    "version": 3
   },
   "file_extension": ".py",
   "mimetype": "text/x-python",
   "name": "python",
   "nbconvert_exporter": "python",
   "pygments_lexer": "ipython3",
   "version": "3.8.10"
  }
 },
 "nbformat": 4,
 "nbformat_minor": 2
}
