{
 "cells": [
  {
   "cell_type": "markdown",
   "metadata": {},
   "source": [
    "Nessa classe, iremos explorar as regras mínimas do trade"
   ]
  },
  {
   "cell_type": "code",
   "execution_count": 1,
   "metadata": {},
   "outputs": [],
   "source": [
    "import pandas as pd\n",
    "import numpy as np"
   ]
  },
  {
   "cell_type": "code",
   "execution_count": null,
   "metadata": {},
   "outputs": [],
   "source": [
    "def stop_loss():\n",
    "        stop_loss = int(input(\"Qual a '%' de preço na operação que devo colocar o stop loss?\"))\n",
    "        return stop_loss/100\n",
    "    "
   ]
  },
  {
   "cell_type": "code",
   "execution_count": null,
   "metadata": {},
   "outputs": [],
   "source": [
    "def stop_gain():\n",
    "        qty_stop_gain = int(input(\"Quantos stop gain você quer?\"))\n",
    "\n",
    "        i = 1\n",
    "        stop_gain = np.array([])\n",
    "        while (i <= qty_stop_gain):\n",
    "            stop_gain = int(input(\"Qual a'%' de preço na operação que devo colocar o stop gain?\"))\n",
    "\n",
    "        return stop_gain"
   ]
  },
  {
   "cell_type": "code",
   "execution_count": null,
   "metadata": {},
   "outputs": [],
   "source": [
    "class Trade:\n",
    "\n",
    "    def __init__(self,saldo):\n",
    "        self.saldo = saldo\n",
    "    \n",
    "    def saldo_total(self):\n",
    "        print(\"Saldo total\"+self.saldo)\n",
    "    \n",
    "    def adicionar_operacao(preco_operacao):\n",
    "        #adicionar operações a uma lista\n",
    "        #verificar qual chegou primeiro stop loss ou stop gain\n"
   ]
  }
 ],
 "metadata": {
  "kernelspec": {
   "display_name": "Python 3",
   "language": "python",
   "name": "python3"
  },
  "language_info": {
   "codemirror_mode": {
    "name": "ipython",
    "version": 3
   },
   "file_extension": ".py",
   "mimetype": "text/x-python",
   "name": "python",
   "nbconvert_exporter": "python",
   "pygments_lexer": "ipython3",
   "version": "3.10.11"
  }
 },
 "nbformat": 4,
 "nbformat_minor": 2
}
