{
 "cells": [
  {
   "cell_type": "markdown",
   "metadata": {},
   "source": [
    "Nessa classe, iremos explorar as regras mínimas do trade"
   ]
  },
  {
   "cell_type": "code",
   "execution_count": 1,
   "metadata": {},
   "outputs": [],
   "source": [
    "import pandas as pd\n",
    "import numpy as np"
   ]
  },
  {
   "cell_type": "code",
   "execution_count": 4,
   "metadata": {},
   "outputs": [
    {
     "name": "stdout",
     "output_type": "stream",
     "text": [
      "Operações de João\n",
      "Compra de ações - 500\n",
      "Venda de ações - 700\n"
     ]
    }
   ],
   "source": [
    "class Operacao:\n",
    "    def __init__(self, descricao, valor):\n",
    "        self.descricao = descricao\n",
    "        self.valor = valor\n",
    "\n",
    "class Trader:\n",
    "    def __init__(self, nome, saldo):\n",
    "        self.nome = nome\n",
    "        self.saldo = saldo\n",
    "        self.operacoes = []  # Lista para armazenar as operações\n",
    "\n",
    "    def adicionar_operacao(self, operacao):\n",
    "        self.operacoes.append(operacao)\n",
    "\n",
    "    def listar_operacoes(self):\n",
    "        return self.operacoes\n",
    "\n",
    "# Exemplo de uso:\n",
    "trader1 = Trader(\"João\", 1000)\n",
    "operacao1 = Operacao(\"Compra de ações\", 500)\n",
    "operacao2 = Operacao(\"Venda de ações\", 700)\n",
    "trader1.adicionar_operacao(operacao1)\n",
    "trader1.adicionar_operacao(operacao2)\n",
    "\n",
    "# Mostrar as operações do trader1\n",
    "print(\"Operações de\", trader1.nome)\n",
    "for operacao in trader1.listar_operacoes():\n",
    "    print(operacao.descricao, \"-\", operacao.valor)\n"
   ]
  },
  {
   "cell_type": "code",
   "execution_count": 6,
   "metadata": {},
   "outputs": [
    {
     "name": "stdout",
     "output_type": "stream",
     "text": [
      "Operações abertas:\n",
      "Operação 1\n",
      "Operação 2\n",
      "Operações fechadas:\n",
      "Operação 1\n"
     ]
    }
   ],
   "source": [
    "class Trader:\n",
    "    def __init__(self, balance):\n",
    "        self.balance = balance\n",
    "        self.open_operations = []\n",
    "        self.closed_operations = []\n",
    "\n",
    "    def add_operation(self, operation):\n",
    "        self.open_operations.append(operation)\n",
    "\n",
    "    def remove_operation(self, operation):\n",
    "        if operation in self.open_operations:\n",
    "            self.open_operations.remove(operation)\n",
    "        elif operation in self.closed_operations:\n",
    "            self.closed_operations.remove(operation)\n",
    "        else:\n",
    "            print(\"Operação não encontrada.\")\n",
    "\n",
    "    def close_operation(self, operation):\n",
    "        if operation in self.open_operations:\n",
    "            self.open_operations.remove(operation)\n",
    "            self.closed_operations.append(operation)\n",
    "        else:\n",
    "            print(\"Operação não encontrada ou já fechada.\")\n",
    "\n",
    "    def list_open_operations(self):\n",
    "        print(\"Operações abertas:\")\n",
    "        for operation in self.open_operations:\n",
    "            print(operation)\n",
    "\n",
    "    def list_closed_operations(self):\n",
    "        print(\"Operações fechadas:\")\n",
    "        for operation in self.closed_operations:\n",
    "            print(operation)\n",
    "\n",
    "# Exemplo de uso:\n",
    "trader1 = Trader(balance=10000)\n",
    "trader1.add_operation(\"Operação 1\")\n",
    "trader1.add_operation(\"Operação 2\")\n",
    "trader1.list_open_operations()\n",
    "trader1.close_operation(\"Operação 1\")\n",
    "trader1.list_closed_operations()"
   ]
  },
  {
   "cell_type": "code",
   "execution_count": 10,
   "metadata": {},
   "outputs": [],
   "source": [
    "class Operacao:\n",
    "    def __init__(self, currency, operation_type, leverage, lot, entry_price):\n",
    "        self.currency = currency\n",
    "        self.operation_type = operation_type\n",
    "        self.leverage = leverage\n",
    "        self.lot = lot\n",
    "        self.entry_price = entry_price\n",
    "        self.stop_loss = self.stop_loss()\n",
    "        self.stop_gain = self.stop_gain()\n",
    "\n",
    "    def operation_balance(self, actual_price):\n",
    "        if self.operation_type == \"buy\":\n",
    "            profit = (actual_price - self.entry_price) * self.lot * self.leverage\n",
    "            return profit\n",
    "        else:\n",
    "            profit = (self.entry_price - actual_price) * self.lot * self.leverage\n",
    "            return profit\n",
    "\n",
    "    def stop_loss(self):\n",
    "        if self.operation_type == \"buy\":\n",
    "            stop_loss = self.entry_price * 0.97\n",
    "        else:\n",
    "            stop_loss = self.entry_price * 1.03\n",
    "        return stop_loss\n",
    "\n",
    "    def stop_gain(self):\n",
    "        if self.operation_type == \"buy\":\n",
    "            stop_gain = self.entry_price * 1.03\n",
    "        else:\n",
    "            stop_gain = self.entry_price * 0.97\n",
    "        return stop_gain"
   ]
  },
  {
   "cell_type": "code",
   "execution_count": 11,
   "metadata": {},
   "outputs": [
    {
     "name": "stdout",
     "output_type": "stream",
     "text": [
      "Saldo do trader1: 10000\n",
      "Preço de entrada da operação: 1.15\n",
      "Stop Loss da operação: 1.1155\n",
      "Stop Gain da operação: 1.1844999999999999\n",
      "Operações abertas:\n",
      "<__main__.Operacao object at 0x7f158345a1f0>\n",
      "Lucro da operação: 0.2500000000000058\n",
      "Operações fechadas:\n",
      "<__main__.Operacao object at 0x7f158345a1f0>\n"
     ]
    }
   ],
   "source": [
    "# Teste dos métodos e atributos\n",
    "trader1 = Trader(balance=10000)\n",
    "print(\"Saldo do trader1:\", trader1.balance)\n",
    "\n",
    "operacao1 = Operacao(currency=\"EUR/USD\", operation_type=\"buy\", leverage=50, lot=1, entry_price=1.1500)\n",
    "print(\"Preço de entrada da operação:\", operacao1.entry_price)\n",
    "print(\"Stop Loss da operação:\", operacao1.stop_loss)\n",
    "print(\"Stop Gain da operação:\", operacao1.stop_gain)\n",
    "\n",
    "trader1.add_operation(operacao1)\n",
    "trader1.list_open_operations()\n",
    "\n",
    "actual_price = 1.1550\n",
    "lucro_operacao1 = operacao1.operation_balance(actual_price)\n",
    "print(\"Lucro da operação:\", lucro_operacao1)\n",
    "\n",
    "trader1.close_operation(operacao1)\n",
    "trader1.list_closed_operations()"
   ]
  },
  {
   "cell_type": "code",
   "execution_count": 29,
   "metadata": {},
   "outputs": [
    {
     "name": "stdout",
     "output_type": "stream",
     "text": [
      "None\n"
     ]
    }
   ],
   "source": [
    "operacao = Operation(1.22005,'buy',1,100000,50)\n",
    "print(operacao.reached_stops(0))"
   ]
  }
 ],
 "metadata": {
  "kernelspec": {
   "display_name": "Python 3",
   "language": "python",
   "name": "python3"
  },
  "language_info": {
   "codemirror_mode": {
    "name": "ipython",
    "version": 3
   },
   "file_extension": ".py",
   "mimetype": "text/x-python",
   "name": "python",
   "nbconvert_exporter": "python",
   "pygments_lexer": "ipython3",
   "version": "3.8.10"
  }
 },
 "nbformat": 4,
 "nbformat_minor": 2
}
