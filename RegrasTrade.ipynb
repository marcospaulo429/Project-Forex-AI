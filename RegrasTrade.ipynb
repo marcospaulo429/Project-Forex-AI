{
 "cells": [
  {
   "cell_type": "markdown",
   "metadata": {},
   "source": [
    "Nessa classe, iremos explorar as regras mínimas do trade"
   ]
  },
  {
   "cell_type": "code",
   "execution_count": 1,
   "metadata": {},
   "outputs": [],
   "source": [
    "import pandas as pd\n",
    "import numpy as np"
   ]
  },
  {
   "cell_type": "code",
   "execution_count": 4,
   "metadata": {},
   "outputs": [
    {
     "name": "stdout",
     "output_type": "stream",
     "text": [
      "Operações de João\n",
      "Compra de ações - 500\n",
      "Venda de ações - 700\n"
     ]
    }
   ],
   "source": [
    "class Operacao:\n",
    "    def __init__(self, descricao, valor):\n",
    "        self.descricao = descricao\n",
    "        self.valor = valor\n",
    "\n",
    "class Trader:\n",
    "    def __init__(self, nome, saldo):\n",
    "        self.nome = nome\n",
    "        self.saldo = saldo\n",
    "        self.operacoes = []  # Lista para armazenar as operações\n",
    "\n",
    "    def adicionar_operacao(self, operacao):\n",
    "        self.operacoes.append(operacao)\n",
    "\n",
    "    def listar_operacoes(self):\n",
    "        return self.operacoes\n",
    "\n",
    "# Exemplo de uso:\n",
    "trader1 = Trader(\"João\", 1000)\n",
    "operacao1 = Operacao(\"Compra de ações\", 500)\n",
    "operacao2 = Operacao(\"Venda de ações\", 700)\n",
    "trader1.adicionar_operacao(operacao1)\n",
    "trader1.adicionar_operacao(operacao2)\n",
    "\n",
    "# Mostrar as operações do trader1\n",
    "print(\"Operações de\", trader1.nome)\n",
    "for operacao in trader1.listar_operacoes():\n",
    "    print(operacao.descricao, \"-\", operacao.valor)\n"
   ]
  },
  {
   "cell_type": "code",
   "execution_count": 12,
   "metadata": {},
   "outputs": [
    {
     "name": "stdout",
     "output_type": "stream",
     "text": [
      "Operações abertas:\n",
      "Operação 1\n",
      "Operação 2\n",
      "Operações fechadas:\n",
      "Operação 1\n"
     ]
    }
   ],
   "source": [
    "class Trader:\n",
    "    def __init__(self, balance):\n",
    "        self.balance = balance\n",
    "        self.open_operations = []\n",
    "        self.closed_operations = []\n",
    "\n",
    "    def add_operation(self, operation):\n",
    "        self.open_operations.append(operation)\n",
    "\n",
    "    def remove_operation(self, operation):\n",
    "        if operation in self.open_operations:\n",
    "            self.open_operations.remove(operation)\n",
    "        elif operation in self.closed_operations:\n",
    "            self.closed_operations.remove(operation)\n",
    "        else:\n",
    "            print(\"Operação não encontrada.\")\n",
    "\n",
    "    def close_operation(self, operation):\n",
    "        if operation in self.open_operations:\n",
    "            self.open_operations.remove(operation)\n",
    "            self.closed_operations.append(operation)\n",
    "        else:\n",
    "            print(\"Operação não encontrada ou já fechada.\")\n",
    "\n",
    "    def list_open_operations(self):\n",
    "        print(\"Operações abertas:\")\n",
    "        for operation in self.open_operations:\n",
    "            print(operation)\n",
    "\n",
    "    def list_closed_operations(self):\n",
    "        print(\"Operações fechadas:\")\n",
    "        for operation in self.closed_operations:\n",
    "            print(operation)\n",
    "\n",
    "    def verificar_stops(self, actual_price):\n",
    "        operations_with_stop_hit = []\n",
    "        for operation in self.open_operations:\n",
    "            if operation.operation_type == \"buy\":\n",
    "                if actual_price <= operation.stop_loss or actual_price >= operation.stop_gain:\n",
    "                    operations_with_stop_hit.append(operation)\n",
    "            else:\n",
    "                if actual_price >= operation.stop_loss or actual_price <= operation.stop_gain:\n",
    "                    operations_with_stop_hit.append(operation)\n",
    "        return operations_with_stop_hit\n"
   ]
  },
  {
   "cell_type": "code",
   "execution_count": 13,
   "metadata": {},
   "outputs": [],
   "source": [
    "class Operacao:\n",
    "    def __init__(self, currency, operation_type, leverage, lot, entry_price):\n",
    "        self.currency = currency\n",
    "        self.operation_type = operation_type\n",
    "        self.leverage = leverage\n",
    "        self.lot = lot\n",
    "        self.entry_price = entry_price\n",
    "        self.stop_loss = self.stop_loss()\n",
    "        self.stop_gain = self.stop_gain()\n",
    "\n",
    "    def operation_balance(self, actual_price):\n",
    "        if self.operation_type == \"buy\":\n",
    "            profit = (actual_price - self.entry_price) * self.lot * self.leverage\n",
    "            return profit\n",
    "        else:\n",
    "            profit = (self.entry_price - actual_price) * self.lot * self.leverage\n",
    "            return profit\n",
    "\n",
    "    def stop_loss(self):\n",
    "        if self.operation_type == \"buy\":\n",
    "            stop_loss = self.entry_price * 0.97\n",
    "        else:\n",
    "            stop_loss = self.entry_price * 1.03\n",
    "        return stop_loss\n",
    "\n",
    "    def stop_gain(self):\n",
    "        if self.operation_type == \"buy\":\n",
    "            stop_gain = self.entry_price * 1.03\n",
    "        else:\n",
    "            stop_gain = self.entry_price * 0.97\n",
    "        return stop_gain"
   ]
  },
  {
   "cell_type": "code",
   "execution_count": 15,
   "metadata": {},
   "outputs": [
    {
     "name": "stdout",
     "output_type": "stream",
     "text": [
      "Operações que atingiram o stop com preço de compra atual: [<__main__.Operacao object at 0x7f1582fda520>]\n",
      "Operações que atingiram o stop com preço de venda atual: [<__main__.Operacao object at 0x7f1582fda520>]\n"
     ]
    }
   ],
   "source": [
    "# Suponha que as classes Operacao e Trader já foram definidas anteriormente\n",
    "\n",
    "# Exemplo de teste\n",
    "trader1 = Trader(balance=10000)\n",
    "operacao1 = Operacao(currency=\"EUR/USD\", operation_type=\"buy\", leverage=50, lot=1, entry_price=1.1500)\n",
    "operacao2 = Operacao(currency=\"EUR/USD\", operation_type=\"sell\", leverage=50, lot=1, entry_price=1.1600)\n",
    "operacao3 = Operacao(currency=\"GBP/USD\", operation_type=\"buy\", leverage=50, lot=1, entry_price=1.3000)\n",
    "\n",
    "trader1.add_operation(operacao1)\n",
    "trader1.add_operation(operacao2)\n",
    "trader1.add_operation(operacao3)\n",
    "\n",
    "# Suponha que o preço atual seja 1.1450 para a operação de compra e 1.1650 para a operação de venda\n",
    "actual_price_buy = 1.1450\n",
    "actual_price_sell = 1.1650\n",
    "\n",
    "operations_buy_hit = trader1.verificar_stops(actual_price_buy)\n",
    "operations_sell_hit = trader1.verificar_stops(actual_price_sell)\n",
    "\n",
    "print(\"Operações que atingiram o stop com preço de compra atual:\", operations_buy_hit)\n",
    "print(\"Operações que atingiram o stop com preço de venda atual:\", operations_sell_hit)\n"
   ]
  }
 ],
 "metadata": {
  "kernelspec": {
   "display_name": "Python 3",
   "language": "python",
   "name": "python3"
  },
  "language_info": {
   "codemirror_mode": {
    "name": "ipython",
    "version": 3
   },
   "file_extension": ".py",
   "mimetype": "text/x-python",
   "name": "python",
   "nbconvert_exporter": "python",
   "pygments_lexer": "ipython3",
   "version": "3.8.10"
  }
 },
 "nbformat": 4,
 "nbformat_minor": 2
}
