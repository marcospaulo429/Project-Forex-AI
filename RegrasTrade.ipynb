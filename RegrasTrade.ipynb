{
 "cells": [
  {
   "cell_type": "markdown",
   "metadata": {},
   "source": [
    "Nessa classe, iremos explorar as regras mínimas do trade"
   ]
  },
  {
   "cell_type": "code",
   "execution_count": 1,
   "metadata": {},
   "outputs": [],
   "source": [
    "import pandas as pd\n",
    "import numpy as np"
   ]
  },
  {
   "cell_type": "code",
   "execution_count": 2,
   "metadata": {},
   "outputs": [],
   "source": [
    "def calculate_profit_loss_eurusd(entry_price, exit_price, pip_value, lot_size, leverage):\n",
    "    pips_difference = (exit_price - entry_price) / pip_value\n",
    "    profit_loss = (pips_difference*lot_size*pip_value) * leverage\n",
    "\n",
    "    return profit_loss"
   ]
  },
  {
   "cell_type": "code",
   "execution_count": 34,
   "metadata": {},
   "outputs": [
    {
     "data": {
      "text/plain": [
       "'    def add_open_operations(self):\\n'"
      ]
     },
     "execution_count": 34,
     "metadata": {},
     "output_type": "execute_result"
    }
   ],
   "source": [
    "class Trader:\n",
    "\n",
    "    def __init__(self,saldo):\n",
    "        self.saldo = saldo\n",
    "    \n",
    "    def update_balance(self,value):\n",
    "        self.saldo = self.saldo + value\n",
    "        return self.saldo\n",
    "    \n",
    "    def closed_operations(self):\n",
    "        df_closed_operations = pd.DataFrame({\n",
    "            'Price':[],\n",
    "            'Profit/Loss': [],\n",
    "            'Type of operation': []\n",
    "        })\n",
    "\n",
    "        self.closed_operations = df_closed_operations\n",
    "        print(self.closed_operations)\n",
    "        return self.closed_operations\n",
    "\n",
    "    def open_operations(self):\n",
    "        df_open_operations = pd.DataFrame({\n",
    "            'Price':[],\n",
    "            'Parcial Profit/Loss': [],\n",
    "            'Type of operation': []\n",
    "        })\n",
    "\n",
    "        self.open_operations = df_open_operations\n",
    "        return self.open_operations\n",
    "    \n",
    "    def add_closed_operations(self,nparray_for_df):\n",
    "        df = self.closed_operations\n",
    "        df.loc[len(df)] = nparray_for_df\n",
    "        self.closed_operations = df\n",
    "        print(\"Closed Operation Adicionada\")\n",
    "        print(self.closed_operations)\n",
    "\n",
    "    def add_open_operations(self,nparray_for_df):\n",
    "        df = self.open_operations\n",
    "        df.loc[len(df)] = nparray_for_df\n",
    "        self.open_operations = df\n",
    "        print(\"Open Operation Adicionada\")\n",
    "        print(self.open_operations)        "
   ]
  },
  {
   "cell_type": "code",
   "execution_count": 28,
   "metadata": {},
   "outputs": [],
   "source": [
    "class Operation:\n",
    "\n",
    "    def __init__(self,price,type_of_operation, pip_value, lot_size, leverage):\n",
    "        self.price = price\n",
    "        self.type_of_operation = type_of_operation\n",
    "        self.pip_value = pip_value\n",
    "        self.lot_size = lot_size\n",
    "        self.leverage = leverage\n",
    "    \n",
    "    def stop_loss(self):\n",
    "        if (self.type_of_operation==\"buy\"):\n",
    "            stop_loss = self.price*0.97\n",
    "\n",
    "        else:\n",
    "            stop_loss = self.price*1.03\n",
    "\n",
    "        self.stop_loss = stop_loss\n",
    "        return stop_loss\n",
    "    \n",
    "    def stop_gain(self):\n",
    "        if (self.type_of_operation==\"buy\"):\n",
    "            stop_gain = self.price*1.03\n",
    "\n",
    "        else:\n",
    "            stop_gain = self.price*0.97\n",
    "\n",
    "        self.stop_gain = stop_gain\n",
    "        return stop_gain\n",
    "    \n",
    "    def reached_stops(self,actual_price):\n",
    "        if ((self.stop_gain == actual_price) or (self.stop_loss == actual_price)):\n",
    "            results_operation = np.array([self.price,calculate_profit_loss_eurusd(self.price,actual_price,self.pip_value,self.lot_size,self.leverage,self.type_of_operation)])\n",
    "            return results_operation\n",
    "        \n",
    "        else:\n",
    "            pass"
   ]
  },
  {
   "cell_type": "code",
   "execution_count": 29,
   "metadata": {},
   "outputs": [
    {
     "name": "stdout",
     "output_type": "stream",
     "text": [
      "None\n"
     ]
    }
   ],
   "source": [
    "operacao = Operation(1.22005,'buy',1,100000,50)\n",
    "print(operacao.reached_stops(0))"
   ]
  }
 ],
 "metadata": {
  "kernelspec": {
   "display_name": "Python 3",
   "language": "python",
   "name": "python3"
  },
  "language_info": {
   "codemirror_mode": {
    "name": "ipython",
    "version": 3
   },
   "file_extension": ".py",
   "mimetype": "text/x-python",
   "name": "python",
   "nbconvert_exporter": "python",
   "pygments_lexer": "ipython3",
   "version": "3.10.11"
  }
 },
 "nbformat": 4,
 "nbformat_minor": 2
}
