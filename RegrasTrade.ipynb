{
 "cells": [
  {
   "cell_type": "markdown",
   "metadata": {},
   "source": [
    "Nessa classe, iremos explorar as regras mínimas do trade"
   ]
  },
  {
   "cell_type": "code",
   "execution_count": 1,
   "metadata": {},
   "outputs": [],
   "source": [
    "import pandas as pd\n",
    "import numpy as np"
   ]
  },
  {
   "cell_type": "code",
   "execution_count": null,
   "metadata": {},
   "outputs": [],
   "source": [
    "class RegrasTrade:\n",
    "    \n",
    "    def saldo_total():\n",
    "        print(\"Saldo total\")\n",
    "\n",
    "    def buy():\n",
    "        print(\"Comprando\")\n",
    "        preco_comprado = #guardar o preço que comprei\n",
    "        return preco_comprado, stop_loss, stop_gain\n",
    "\n",
    "    def sell():\n",
    "        print(\"Vendendo\")\n",
    "        preco_vendido = #guardar o preço que vendido\n",
    "        return preco_vendido, stop_loss, stop_gain\n",
    "\n",
    "    def wait():\n",
    "        print(\"Esperando boa oportunidade\")\n",
    "\n",
    "    def operacao():\n",
    "        print(\"Saldo da operação\")\n",
    "        return saldo_da_operacao\n",
    "    \n",
    "    def opcoes_de_stop_loss():\n",
    "        stop_loss = int(input(\"Qual a '%' de preço na operação que devo colocar o stop loss?\"))\n",
    "        return stop_loss/100\n",
    "    \n",
    "    def opcoes_de_stop_gain():\n",
    "        qty_stop_gain = int(input(\"Quantos stop gain você quer?\"))\n",
    "\n",
    "        i = 1\n",
    "        stop_gain = np.array([])\n",
    "        while (i <= qty_stop_gain):\n",
    "            stop_gain = int(input(\"Qual a'%' de preço na operação que devo colocar o stop gain?\"))\n",
    "\n",
    "        return stop_gain"
   ]
  }
 ],
 "metadata": {
  "kernelspec": {
   "display_name": "Python 3",
   "language": "python",
   "name": "python3"
  },
  "language_info": {
   "codemirror_mode": {
    "name": "ipython",
    "version": 3
   },
   "file_extension": ".py",
   "mimetype": "text/x-python",
   "name": "python",
   "nbconvert_exporter": "python",
   "pygments_lexer": "ipython3",
   "version": "3.10.11"
  }
 },
 "nbformat": 4,
 "nbformat_minor": 2
}
