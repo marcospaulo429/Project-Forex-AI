{
 "cells": [
  {
   "cell_type": "code",
   "execution_count": 1,
   "metadata": {},
   "outputs": [],
   "source": [
    "import numpy as np\n",
    "import pandas as pd\n",
    "import tensorflow as tf\n",
    "from sklearn.model_selection import train_test_split\n",
    "from sklearn.preprocessing import StandardScaler"
   ]
  },
  {
   "cell_type": "code",
   "execution_count": 2,
   "metadata": {},
   "outputs": [],
   "source": [
    "def sliding_window(df,window_size,first_candle): \n",
    "\n",
    "    df = df.sort_index(ascending=False)\n",
    "    df = df.iloc[first_candle: first_candle + window_size]\n",
    "    return df\n"
   ]
  },
  {
   "cell_type": "code",
   "execution_count": 3,
   "metadata": {},
   "outputs": [
    {
     "name": "stdout",
     "output_type": "stream",
     "text": [
      "               open          high           low         close\n",
      "count  74005.000000  74005.000000  74005.000000  74005.000000\n",
      "mean       1.073304      1.073648      1.072940      1.073269\n",
      "std        0.043913      0.043857      0.043959      0.043897\n",
      "min        0.953890      0.955150      0.953550      0.953880\n",
      "25%        1.053130      1.053540      1.052800      1.053210\n",
      "50%        1.074720      1.074940      1.074510      1.074790\n",
      "75%        1.099290      1.099510      1.098960      1.099280\n",
      "max        1.168880      1.169190      1.168610      1.168880\n",
      "time     0\n",
      "open     0\n",
      "high     0\n",
      "low      0\n",
      "close    0\n",
      "dtype: int64\n"
     ]
    }
   ],
   "source": [
    "#Preparação dos dados:\n",
    "df = pd.read_csv('dados_eurusd_1_12_2023.csv')\n",
    "print(df.describe())\n",
    "print(df.isnull().sum())"
   ]
  },
  {
   "cell_type": "code",
   "execution_count": 4,
   "metadata": {},
   "outputs": [],
   "source": [
    "saldo = 10000"
   ]
  },
  {
   "cell_type": "code",
   "execution_count": null,
   "metadata": {},
   "outputs": [],
   "source": [
    "df = pd.read_csv('dados_eurusd_1_12_2023.csv')\n",
    "df['action'] = np.random.choice(['buy', 'sell', 'hold'], size=len(df))\n",
    "df['profit'] = np.random.uniform(-1, 1, len(df))\n",
    "\n",
    "# Divida os dados em treinamento e teste\n",
    "train_data, test_data = train_test_split(df, test_size=0.2, shuffle=False)\n",
    "\n",
    "# Configurações de tamanho\n",
    "window_size = 8600  # Tamanho da janela de dados\n",
    "batch_size = 16  # Tamanho do lote\n"
   ]
  },
  {
   "cell_type": "code",
   "execution_count": null,
   "metadata": {},
   "outputs": [],
   "source": [
    "#Nesse quadrado, fazer o modelo\n",
    "\n",
    "# Prepare os dados para treinamento\n",
    "def prepare_data(df, window_size):\n",
    "    data = []\n",
    "    actions = []\n",
    "    profits = []\n",
    "    for i in range(len(df) - window_size):\n",
    "        window = df.iloc[i:i + window_size][['open', 'high', 'close', 'low']].values\n",
    "        action = df.iloc[i + window_size]['action']\n",
    "        profit = df.iloc[i + window_size]['profit']\n",
    "        data.append(window)\n",
    "        actions.append(action)\n",
    "        profits.append(profit)\n",
    "    return np.array(data), np.array(actions), np.array(profits)\n",
    "\n",
    "X_train, y_train, profits_train = prepare_data(train_data, window_size)\n",
    "X_test, y_test, profits_test = prepare_data(test_data, window_size)\n",
    "\n",
    "# Converta rótulos para representação one-hot\n",
    "y_train_onehot = pd.get_dummies(y_train).values\n",
    "y_test_onehot = pd.get_dummies(y_test).values\n",
    "\n",
    "# Define the CNN-GRU model architecture (example from a previous response)\n",
    "model = tf.keras.Sequential([\n",
    "    layers.Conv1D(filters=32, kernel_size=5, activation='relu', input_shape=(window_size, 1)),\n",
    "    layers.MaxPooling1D(pool_size=2),\n",
    "    layers.GRU(units=64, return_sequences=True),\n",
    "    layers.GRU(units=32),\n",
    "    layers.Dense(3, activation='softmax')  # Assuming 3 output classes\n",
    "])\n",
    "\n",
    "# Compile the model with an optimizer that handles backpropagation\n",
    "optimizer = tf.keras.optimizers.Adam(learning_rate=0.001)  # Example optimizer\n",
    "model.compile(optimizer=optimizer, loss='categorical_crossentropy', metrics=['accuracy'])\n"
   ]
  },
  {
   "cell_type": "code",
   "execution_count": null,
   "metadata": {},
   "outputs": [],
   "source": [
    "#Nesse quadrado: calcular cada epoch de uma vez\n",
    "\n",
    "import numpy as np\n",
    "\n",
    "# Set the number of epochs\n",
    "num_epochs = 10\n",
    "\n",
    "# Train the model\n",
    "for epoch in range(num_epochs):\n",
    "    print(f\"Epoch {epoch + 1}/{num_epochs}\")\n",
    "    model.fit(candles, targets, epochs=1, batch_size=32)\n",
    "\n",
    "    # Perform the trading actions and calculate the profit/loss after each epoch\n",
    "    predictions = model.predict(candles)\n",
    "    entry_prices = candles[:, :, 3]  # Close price of each candle\n",
    "    stop_losses = entry_prices * 0.99  # Stop loss at 1%\n",
    "\n",
    "    profit_loss = np.zeros(batch_size)\n",
    "\n",
    "    for i in range(batch_size):\n",
    "        action = np.argmax(predictions[i])\n",
    "        if action == 0:  # Buy\n",
    "            profit_loss[i] = entry_prices[i][-1] - stop_losses[i][-1]\n",
    "        elif action == 1:  # Sell\n",
    "            profit_loss[i] = stop_losses[i][-1] - entry_prices[i][-1]\n",
    "\n",
    "    # Perform backpropagation using the profit/loss after each epoch\n",
    "    # Modify the model's loss function to include the profit/loss\n",
    "model.compile(optimizer='adam', loss=lambda y_true, y_pred: profit_loss(y_true, y_pred), metrics=['accuracy'])\n",
    "\n",
    "# Train the model\n",
    "model.fit(candles, targets, epochs=10, batch_size=32)"
   ]
  }
 ],
 "metadata": {
  "kernelspec": {
   "display_name": "Python 3",
   "language": "python",
   "name": "python3"
  },
  "language_info": {
   "codemirror_mode": {
    "name": "ipython",
    "version": 3
   },
   "file_extension": ".py",
   "mimetype": "text/x-python",
   "name": "python",
   "nbconvert_exporter": "python",
   "pygments_lexer": "ipython3",
   "version": "3.10.11"
  }
 },
 "nbformat": 4,
 "nbformat_minor": 2
}
