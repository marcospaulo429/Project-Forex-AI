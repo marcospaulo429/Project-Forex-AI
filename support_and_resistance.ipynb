{
 "cells": [
  {
   "cell_type": "code",
   "execution_count": 1,
   "metadata": {},
   "outputs": [],
   "source": [
    "import pandas as pd\n",
    "import numpy as np"
   ]
  },
  {
   "cell_type": "code",
   "execution_count": 2,
   "metadata": {},
   "outputs": [],
   "source": [
    "def sliding_window(df,window_size,first_candle): \n",
    "\n",
    "    df = df.sort_index(ascending=False)\n",
    "    df = df.iloc[first_candle: first_candle + window_size]\n",
    "    return df"
   ]
  },
  {
   "cell_type": "code",
   "execution_count": 3,
   "metadata": {},
   "outputs": [],
   "source": [
    "#determinar força : quanto de tempo o preço ficou naquela faixa - OK\n",
    "\n",
    "#area :3% faixa entre o  preço - OK\n",
    "\n",
    "#evitar colocar ordens de stop em preços redondos, como 100 75v 50 25 0\n"
   ]
  },
  {
   "cell_type": "code",
   "execution_count": 4,
   "metadata": {},
   "outputs": [],
   "source": [
    "def verificate_price_range(df_prices,current_close_price):\n",
    "    for linha,i in enumerate(df_prices['close']):\n",
    "        if ((i <= (current_close_price*1.0015)) or i >= (current_close_price*(-1.0015))):\n",
    "            return linha\n",
    "        else:\n",
    "            return None"
   ]
  },
  {
   "cell_type": "code",
   "execution_count": null,
   "metadata": {},
   "outputs": [],
   "source": [
    "def all_suports(df,window_size):\n",
    "    \n",
    "    df_prices = pd.DataFrame(columns=['time','open','close','times_in_this_zone'])\n",
    "\n",
    "    for x in range(len(df) - window_size):\n",
    "            for i in range(len(window_size)):\n",
    "                  if i == 0:\n",
    "                        pass\n",
    "                  \n",
    "                  elif (verificate_price_range(df_prices,df.iloc[i]['close']) is not None):\n",
    "                        df_prices.iloc[verificate_price_range(df_prices,df.iloc[i]['close'])]['touched_times_in_this_zone'] =+ 1\n",
    "\n",
    "\n",
    "                  elif ((df.iloc[i]['close'] > df.iloc[(i-1)]['close']) and (df.iloc[i]['close'] < df.iloc[(i+1)]['close'])):\n",
    "                        new_row = pd.Series({'time': df.iloc[i]['time'], 'open': df.iloc[i]['open'],\n",
    "                                              'close':df.iloc[i]['close'], 'touched_times_in_this_zone': 1})\n",
    "                        df_prices = df_prices.append(new_row, ignore_index=True)\n",
    "                  \n",
    "                  else:\n",
    "                        pass\n",
    "                        \n",
    "            df = sliding_window(df,window_size,i)"
   ]
  },
  {
   "cell_type": "code",
   "execution_count": null,
   "metadata": {},
   "outputs": [],
   "source": [
    "def calculate_stop_loss(leverage, pip_size, entry_price,account_balance,max_loss_percentage,type_of_trade):\n",
    "  \"\"\"\n",
    "  Calculates the stop-loss price \n",
    "\n",
    "  Args:\n",
    "    current_price: The current market price of the asset.\n",
    "    leverage: The leverage used for the trade.\n",
    "    pip_size: The size of a pip for the currency pair.\n",
    "    entry_price: The price at which the trade was entered.\n",
    "\n",
    "  Returns:\n",
    "    The stop-loss price in pips from the entry price.\n",
    "  \"\"\"\n",
    "\n",
    "  # Calculate the maximum allowed loss in dollars\n",
    "  max_loss = account_balance * max_loss_percentage\n",
    "\n",
    "  # Calculate the required price movement in pips to reach the maximum loss\n",
    "  # (assuming a long position)\n",
    "  stop_loss_pips = max_loss / (leverage * pip_size * entry_price)\n",
    "  \n",
    "  if (type_of_trade == \"buy\"):\n",
    "    stop_loss_price = entry_price - stop_loss_pips\n",
    "  else:\n",
    "    stop_loss_price = entry_price + stop_loss_pips\n",
    "\n",
    "  return stop_loss_price"
   ]
  },
  {
   "cell_type": "code",
   "execution_count": null,
   "metadata": {},
   "outputs": [],
   "source": [
    "def calculate_stop_gain(leverage, pip_size, entry_price,account_balance,max_loss_percentage,type_of_trade):\n",
    "  \"\"\"\n",
    "  Calculates the stop-loss price \n",
    "\n",
    "  Args:\n",
    "    current_price: The current market price of the asset.\n",
    "    leverage: The leverage used for the trade.\n",
    "    pip_size: The size of a pip for the currency pair.\n",
    "    entry_price: The price at which the trade was entered.\n",
    "\n",
    "  Returns:\n",
    "    The stop-loss price in pips from the entry price.\n",
    "  \"\"\"\n",
    "\n",
    "  # Calculate the maximum allowed loss in dollars\n",
    "  max_loss = account_balance * max_loss_percentage\n",
    "\n",
    "  # Calculate the required price movement in pips to reach the maximum loss\n",
    "  # (assuming a long position)\n",
    "  stop_gain_pips = max_loss / (leverage * pip_size * entry_price)\n",
    "\n",
    "  if (type_of_trade == \"buy\"):\n",
    "    stop_gain_price = entry_price - stop_gain_pips\n",
    "  else:\n",
    "    stop_gain_price = entry_price + stop_gain_pips\n",
    "\n",
    "  return stop_gain_price"
   ]
  }
 ],
 "metadata": {
  "kernelspec": {
   "display_name": "Python 3",
   "language": "python",
   "name": "python3"
  },
  "language_info": {
   "codemirror_mode": {
    "name": "ipython",
    "version": 3
   },
   "file_extension": ".py",
   "mimetype": "text/x-python",
   "name": "python",
   "nbconvert_exporter": "python",
   "pygments_lexer": "ipython3",
   "version": "3.10.11"
  }
 },
 "nbformat": 4,
 "nbformat_minor": 2
}
