{
 "cells": [
  {
   "cell_type": "code",
   "execution_count": 3,
   "metadata": {},
   "outputs": [],
   "source": [
    "import pandas as pd\n",
    "import numpy as np"
   ]
  },
  {
   "cell_type": "code",
   "execution_count": 4,
   "metadata": {},
   "outputs": [],
   "source": [
    "def sliding_window(df,window_size,first_candle): \n",
    "\n",
    "    df = df.sort_index(ascending=False)\n",
    "    df = df.iloc[first_candle: first_candle + window_size]\n",
    "    return df"
   ]
  },
  {
   "cell_type": "code",
   "execution_count": null,
   "metadata": {},
   "outputs": [],
   "source": [
    "#determinar força : quanto de tempo o preço ficou naquela faixa\n",
    "\n",
    "#area :3% faixa entre o  preço\n",
    "\n",
    "#evitar colocar ordens de stop em preços redondos, como 100 75v 50 25 0\n"
   ]
  },
  {
   "cell_type": "code",
   "execution_count": 9,
   "metadata": {},
   "outputs": [],
   "source": [
    "def verificate_price_range(df_prices,current_close_price):\n",
    "    for i in df_prices['close']:\n",
    "        if ((i <+ (current_close_price*1.0015)) or i >= (current_close_price*(-1.0015))):\n",
    "            return True\n",
    "        else:\n",
    "            return False"
   ]
  },
  {
   "cell_type": "code",
   "execution_count": null,
   "metadata": {},
   "outputs": [],
   "source": [
    "def all_suports(df,window_size,first_candle):\n",
    "    df_prices = pd.DataFrame(columns=['time','open','close'])\n",
    "    for x in range(len(df) - window_size):\n",
    "            for i in range(len(window_size)):\n",
    "                  if i == 0:\n",
    "                        pass\n",
    "                  \n",
    "                  elif (verificate_price_range(df_prices,df.iloc[i]['close']) is True):\n",
    "                        pass\n",
    "\n",
    "                  elif ((df.iloc[i]['close'] > df.iloc[(i-1)]['close']) and (df.iloc[i]['close'] < df.iloc[(i+1)]['close'])):\n",
    "                        new_row = pd.Series({'time': df.iloc[i]['time'], 'open': df.iloc[i]['open'], 'close':df.iloc[i]['close']})\n",
    "                        df_prices = df_prices.append(new_row, ignore_index=True)\n",
    "                  \n",
    "                  else:\n",
    "                        pass\n",
    "                        \n",
    "            df = sliding_window(df,window_size,i)\n",
    "\n",
    "def determine_stop(initial_price):\n"
   ]
  }
 ],
 "metadata": {
  "kernelspec": {
   "display_name": "Python 3",
   "language": "python",
   "name": "python3"
  },
  "language_info": {
   "codemirror_mode": {
    "name": "ipython",
    "version": 3
   },
   "file_extension": ".py",
   "mimetype": "text/x-python",
   "name": "python",
   "nbconvert_exporter": "python",
   "pygments_lexer": "ipython3",
   "version": "3.10.11"
  }
 },
 "nbformat": 4,
 "nbformat_minor": 2
}
